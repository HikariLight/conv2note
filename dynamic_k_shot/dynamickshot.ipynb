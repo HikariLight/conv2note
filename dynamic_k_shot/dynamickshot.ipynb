{
 "cells": [
  {
   "cell_type": "code",
   "execution_count": 25,
   "metadata": {},
   "outputs": [],
   "source": [
    "import torch\n",
    "from transformers import AutoTokenizer, AutoModelForCausalLM, BitsAndBytesConfig\n",
    "from evaluate import load\n",
    "import wget\n",
    "import os\n",
    "import csv\n",
    "import weaviate\n",
    "import weaviate.classes as wvc"
   ]
  },
  {
   "cell_type": "code",
   "execution_count": 12,
   "metadata": {},
   "outputs": [],
   "source": [
    "# model_name = \"mistralai/Mistral-7B-v0.1\"\n",
    "model_name = \"mistralai/Mistral-7B-Instruct-v0.2\"\n",
    "device = \"cuda\"\n",
    "bertscore = load(\"bertscore\")"
   ]
  },
  {
   "cell_type": "code",
   "execution_count": 3,
   "metadata": {},
   "outputs": [
    {
     "name": "stdout",
     "output_type": "stream",
     "text": [
      "bin c:\\Users\\A2MIMO\\Documents\\conv2note\\venv\\Lib\\site-packages\\bitsandbytes\\libbitsandbytes_cuda118.dll\n"
     ]
    },
    {
     "name": "stderr",
     "output_type": "stream",
     "text": [
      "Loading checkpoint shards: 100%|██████████| 3/3 [00:13<00:00,  4.63s/it]\n"
     ]
    }
   ],
   "source": [
    "bnb_config = BitsAndBytesConfig(\n",
    " load_in_4bit=True,\n",
    " bnb_4bit_quant_type=\"nf4\",\n",
    " bnb_4bit_use_double_quant=True,\n",
    " bnb_4bit_compute_dtype=torch.bfloat16,\n",
    ")\n",
    "\n",
    "model = AutoModelForCausalLM.from_pretrained(\n",
    " model_name,\n",
    " quantization_config=bnb_config,\n",
    " device_map=\"auto\",\n",
    " trust_remote_code=True,\n",
    ")\n",
    "\n",
    "tokenizer = AutoTokenizer.from_pretrained(model_name)"
   ]
  },
  {
   "cell_type": "markdown",
   "metadata": {},
   "source": [
    "#### Regular prompting"
   ]
  },
  {
   "cell_type": "code",
   "execution_count": 104,
   "metadata": {},
   "outputs": [
    {
     "name": "stdout",
     "output_type": "stream",
     "text": [
      "\n",
      "<s>[INST] Write a resume of the following conversation between a doctor and a patient: Doctor: Good morning, Mr. Smith. How are you feeling today?\n",
      "Patient: Good morning, Doctor. I've been better, to be honest. I've been having some chest pain and shortness of breath lately.\n",
      "Doctor: I'm sorry to hear that. How long have you been experiencing these symptoms?\n",
      "Patient: It's been about a week now. At first, I thought it might just be stress, but it's been getting worse.\n",
      "Doctor: I see. Have you noticed if anything triggers these symptoms or if they occur at certain times of the day?\n",
      "Patient: Well, the chest pain seems to come on after I've been active or when I'm feeling particularly stressed.\n",
      "Doctor: Okay. Have you had any previous heart-related issues or any family history of heart disease?\n",
      "Patient: Not that I know of, Doctor.\n",
      "Doctor: Alright. I'd like to conduct a physical examination and run some tests to better understand what might be causing your symptoms. We may need to perform an EKG, chest X-ray, and some blood work to start.\n",
      "Patient: Sounds good, Doctor. I just want to figure out what's going on.\n",
      "Doctor: Absolutely, Mr. Smith. We'll work together to get to the bottom of this. In the meantime, I'd recommend avoiding any strenuous activities and trying to manage your stress levels as best as you can.\n",
      "Patient: Thank you, Doctor. I'll do my best.\n",
      "Doctor: You're welcome. I'll have my nurse schedule those tests for you, and we'll follow up once we have the results.\n",
      "Patient: Alright, Doctor. Thank you again for your help.\n",
      "Doctor: Of course, Mr. Smith. Take care, and we'll be in touch soon.[/INST]\n",
      "\n"
     ]
    },
    {
     "name": "stderr",
     "output_type": "stream",
     "text": [
      "C:\\Users\\A2MIMO\\AppData\\Local\\Temp\\ipykernel_70016\\2589195327.py:1: ResourceWarning: unclosed file <_io.TextIOWrapper name='test.txt' mode='r' encoding='cp1252'>\n",
      "  conversation = open(\"test.txt\", \"r\").readlines()\n",
      "ResourceWarning: Enable tracemalloc to get the object allocation traceback\n"
     ]
    }
   ],
   "source": [
    "conversation = open(\"test.txt\", \"r\").readlines()\n",
    "conversation = \"\".join(conversation)\n",
    "\n",
    "prompt = f\"\"\"\n",
    "<s>[INST] Write a resume of the following conversation between a doctor and a patient: {conversation}[/INST]\n",
    "\"\"\"\n",
    "\n",
    "print(prompt)"
   ]
  },
  {
   "cell_type": "code",
   "execution_count": 105,
   "metadata": {},
   "outputs": [
    {
     "name": "stderr",
     "output_type": "stream",
     "text": [
      "Setting `pad_token_id` to `eos_token_id`:2 for open-end generation.\n"
     ]
    },
    {
     "name": "stdout",
     "output_type": "stream",
     "text": [
      "\n",
      " title: Consultation between Doctor and Patient (Mr. Smith)\n",
      "\n",
      " Doctor and Patient exchanged pleasantries at the beginning of the consultation. The Patient expressed experiencing chest pain and shortness of breath for about a week, which initially seemed like stress-induced symptoms but have since worsened. The Doctor asked if there were any triggers or specific times when the symptoms occur, to which the Patient mentioned that the chest pain seems to appear after physical activity or increased stress levels.\n",
      "\n",
      " The Doctor inquired about any previous heart-related issues or family history of heart disease, but the Patient reported no such issues. The Doctor decided to perform an examination and requested specific tests, including an EKG, chest X-ray, and blood work. The Patient expressed a desire to understand the cause of the symptoms and agreed to the proposed tests and follow-up appointment.\n",
      "\n",
      " The Doctor recommended avoiding strenuous activities and managing stress to help alleviate symptoms in the meantime. The consultation concluded with the Doctor scheduling the tests and setting up a follow-up appointment to discuss results. The Patient expressed gratitude for the Doctor's help and assistance in finding the root cause of their symptoms.</s>\n"
     ]
    }
   ],
   "source": [
    "model_inputs = tokenizer(prompt, return_tensors=\"pt\").to(device)\n",
    "\n",
    "generated_ids = model.generate(**model_inputs, max_new_tokens=1000, do_sample=True)\n",
    "decoded = tokenizer.batch_decode(generated_ids)\n",
    "\n",
    "output = decoded[0]\n",
    "resume = output.split(\"[/INST]\")[1]\n",
    "print(resume)"
   ]
  },
  {
   "cell_type": "code",
   "execution_count": 66,
   "metadata": {},
   "outputs": [
    {
     "name": "stdout",
     "output_type": "stream",
     "text": [
      "{'precision': [0.8960577845573425], 'recall': [0.8609486818313599], 'f1': [0.8781524896621704], 'hashcode': 'roberta-large_L17_no-idf_version=0.3.12(hug_trans=4.37.2)'}\n"
     ]
    }
   ],
   "source": [
    "results = bertscore.compute(predictions=[resume], references=[conversation], lang=\"en\")\n",
    "print(results)"
   ]
  },
  {
   "cell_type": "markdown",
   "metadata": {},
   "source": [
    "#### Dynamic k-shot"
   ]
  },
  {
   "cell_type": "code",
   "execution_count": 79,
   "metadata": {},
   "outputs": [],
   "source": [
    "client = weaviate.connect_to_local()"
   ]
  },
  {
   "cell_type": "code",
   "execution_count": 80,
   "metadata": {},
   "outputs": [
    {
     "name": "stdout",
     "output_type": "stream",
     "text": [
      "Hey\n"
     ]
    }
   ],
   "source": [
    "def get_dataset():\n",
    "\n",
    "    result = []\n",
    "\n",
    "    # MTS-Dialog: 1.2k section-convo pairs\n",
    "    # train_dataset_path = \"https://raw.githubusercontent.com/abachaa/MTS-Dialog/main/Main-Dataset/MTS-Dialog-TrainingSet.csv\" \n",
    "    \n",
    "    # ACI Bench: 67 convo-note pairs\n",
    "    train_dataset_path = \"https://raw.githubusercontent.com/wyim/aci-bench/main/data/challenge_data/train.csv\" \n",
    "    \n",
    "    if not os.path.exists(\"./train.csv\"):\n",
    "        wget.download(train_dataset_path, \"./train.csv\")\n",
    "\n",
    "    with open(\"./train.csv\", encoding=\"utf-8\") as file:\n",
    "        csv_reader = csv.reader(file)\n",
    "\n",
    "        for row in csv_reader:\n",
    "            data = {}\n",
    "            data[\"summary\"] = row[3]\n",
    "            data[\"conversation\"] = row[2]\n",
    "            \n",
    "            result.append(data)\n",
    "\n",
    "    result.pop(0)\n",
    "    return result"
   ]
  },
  {
   "cell_type": "code",
   "execution_count": 89,
   "metadata": {},
   "outputs": [
    {
     "name": "stdout",
     "output_type": "stream",
     "text": [
      "Collection length:  67\n"
     ]
    }
   ],
   "source": [
    "if client.collections.exists(\"reports\"):\n",
    "    reports = client.collections.get(\"reports\")\n",
    "else:\n",
    "    reports = client.collections.create(\n",
    "        name=\"reports\",\n",
    "        vectorizer_config=wvc.config.Configure.Vectorizer.text2vec_transformers()\n",
    "    )\n",
    "\n",
    "if reports.__len__() == 0:\n",
    "        dataset = get_dataset()\n",
    "        for i in range(len(dataset)):\n",
    "            reports.data.insert(dataset[i])\n",
    "\n",
    "print(\"Collection length: \", reports.__len__())"
   ]
  },
  {
   "cell_type": "code",
   "execution_count": 90,
   "metadata": {},
   "outputs": [
    {
     "name": "stderr",
     "output_type": "stream",
     "text": [
      "C:\\Users\\A2MIMO\\AppData\\Local\\Temp\\ipykernel_70016\\3578939554.py:1: ResourceWarning: unclosed file <_io.TextIOWrapper name='test.txt' mode='r' encoding='cp1252'>\n",
      "  conversation = open(\"test.txt\", \"r\").readlines()\n",
      "ResourceWarning: Enable tracemalloc to get the object allocation traceback\n"
     ]
    }
   ],
   "source": [
    "conversation = open(\"test.txt\", \"r\").readlines()\n",
    "conversation = \"\".join(conversation)"
   ]
  },
  {
   "cell_type": "code",
   "execution_count": 99,
   "metadata": {},
   "outputs": [
    {
     "name": "stdout",
     "output_type": "stream",
     "text": [
      "[Object(uuid=_WeaviateUUIDInt('5447d34c-f020-4c79-b2db-9fbbd8182972'), metadata=MetadataReturn(creation_time=None, last_update_time=None, distance=None, certainty=None, score=None, explain_score=None, is_consistent=None, rerank_score=None), properties={'conversation': \"[doctor] hi , vincent . how are you ?\\n[patient] i'm good . how about you ?\\n[doctor] i'm good . so le- are you ready to get started ?\\n[patient] i am .\\n[doctor] okay . vincent is a 56-year-old male here with abnormal lab findings . so , i've heard you were in the er , vincent , and they found that you had a low hemoglobin .\\n[patient] yup .\\n[doctor] were you having some dizziness and some lightheadedness ?\\n[patient] i was very lightheaded . i- i do n't know . very lightheaded .\\n[doctor] okay . and have you noticed bleeding from anywhere ?\\n[patient] i have not . i have n't hurt myself in quite a while . maybe a slight nick from a knife while chopping some onions , but nothing more than that .\\n[doctor] but no blood in your stools or-\\n[patient] no .\\n[doctor] . anything like that ?\\n[patient] no .\\n[doctor] okay . and any type of weight loss or decreased appetite or night sweats ? coughs ?\\n[patient] uh , s- slightly decreased appetite , but i wish i had some weight loss .\\n[doctor] um , okay . and how about any abdominal pain ? fever , chills ?\\n[patient] uh , none of that .\\n[doctor] okay . all right . um , any nausea or vomiting ?\\n[patient] not really . yeah . maybe a bit of nausea .\\n[doctor] okay .\\n[patient] i- sitting at the back of a car , that makes me nauseous at times .\\n[doctor] okay . all right . um , well , how are you doing in terms of your knee replacement . i know you had that done last year . that's going okay ?\\n[patient] mm , it seems okay . yeah .\\n[doctor] okay . you're walking around without a problem ?\\n[patient] yup , yup . just not good enough to run yet , but everything else works just fine .\\n[doctor] all right .\\num , and i know a few years ago , you had , had that scare with the possible lung cancer , but then they did the biopsy and , and you've been fine .\\n[patient] yup , yup . all good .\\n[doctor] turned out to be benign .\\n[patient] yup .\\n[doctor] okay . great . all right . well , let's go ahead and do a quick physical exam . so looking at you , you do n't appear in any distress . your heart is regular . your lungs sound nice and clear . you have some tenderness to the right lower quadrant to palpation of your abdomen . your lower extremities have no edema .\\n[doctor] um , all right . well , let's go ahead and look at your labs , okay ?\\n[patient] yup .\\n[doctor] hey , dragon , show me the hemoglobin . yeah , so your hemoglobin is 8.2 , which is quite low for somebody of your height and weight , so we'll have to look into that a , a little bit further . i know that they did the endoscopy in the emergency room . hey , dragon , show me the endoscope results .\\n[doctor] good . so it looks like you had some gastritis , which is just inflammation of your stomach and they also found a slight polyp , which i know that they biopsied and the results are pending at this time . um , so , you may have had some bleeding from the gastritis . it's not usual for people to have bleeding from that .\\n[doctor] um , okay , well , hey , dragon , show me the anemia panel . okay .\\n[doctor] anyway , okay . well , vincent , i think , you know , in terms of , my impression of you is that you've had this newfound anemia and for that , i think that we should go ahead and put you on protonix , 40 milligrams , once a day to help with the gastritis . does that sound okay to you ?\\n[patient] it does . you're the doctor . i do n't know what it is .\\n[doctor] so that's just , uh , what we call a proton pump inhibitor which , uh , helps decrease the amount of acid secreted within your stomach .\\n[patient] got it . makes sense .\\n[doctor] hey , hey , dragon , order protonix , 40 milligrams , once a day .\\n[doctor] and i'd like you to try to cut down on your caffeine 'cause that can also irritate your stomach . try not to take any ibuprofen and try to cut down on any alcohol intake , okay ?\\n[patient] yup , yup . the coffee's the hard part .\\n[doctor] yeah . it always is . how about one , one , one eight-ounce cup a day ? okay ?\\n[patient] sure .\\n[doctor] um , and we'll go ahead and we'll see you in a couple weeks , okay ?\\n[patient] sure thing .\\n[doctor] i'm going through , uh , i'll also order another , uh , cbc on you . hey , dragon , order a complete blood count .\\n[doctor] all right . the nurse will be in soon . it's , you know , settle all that . i'll see you soon .\\n[patient] see you .\\n[doctor] hey , dragon , finalize the note .\\n\", 'summary': 'CHIEF COMPLAINT\\n\\nAbnormal labs.\\n\\nHISTORY OF PRESENT ILLNESS\\n\\nMr. Vincent Young is a 56-year-old male who presents to the clinic today for evaluation of abnormal labs.\\n\\nThe patient was seen in the emergency room where he was found to have low hemoglobin. He notes that he has been very lightheaded. He denies any hematochezia. The patient does note some decrease in appetite. The patient reports some nausea when he is sitting in the back of the car. He denies any abdominal pain, fever, chills, vomiting, or recent weight loss. The patient also denies night sweats, or a cough.\\n\\nThe patient notes that he is doing well status post knee arthroplasty. He is walking around without any problems.\\n\\nThe patient had a biopsy a few years ago for potential lung cancer, however the nodule was benign. He is doing well.\\n\\nREVIEW OF SYSTEMS\\n\\n• Constitutional: No fevers, chills, or weight loss.\\n• Gastrointestinal: Endorses decreased appetite and mild nausea. Denies hematochezia.\\n• Neurological: Endorse lightheadedness.\\n\\nPHYSICAL EXAMINATION\\n\\n• Constitutional: in no apparent distress.\\n• Neck: Supple without thyromegaly or lymphadenopathy.\\n• Respiratory: Lungs are clear to auscultation bilaterally. No wheezes, rales, or rhonchi.\\n• Cardiovascular: Regular rate and rhythm. No murmurs, gallops, or rubs. No extra heart sounds.\\n• Gastrointestinal: Right lower quadrant tender to palpation.\\n• Musculoskeletal: No lower extremity edema\\n\\nRESULTS\\n\\nHemoglobin- 8.2, which is low for his height and weight.\\n\\nEndoscopy from the emergency room showed gastritis and a slight polyp. The biopsy results are still pending.\\n\\nASSESSMENT AND PLAN\\n\\nVincent Young is a 56-year-old male who presents today for lab review.\\n\\nNew found anemia.\\n• Medical Reasoning: His hemoglobin was 8.2, which is low for his height and weight. Endoscopy from the hospital showed gastritis which could be the source of bleeding. The endoscopy also showed a polyp and a polypectomy was performed. The pathology is still pending.\\n• Patient Education and Counseling: I encouraged the patient to reduce his caffeine consumption avoid NSAIDs and alcohol.\\n• Additional Testing: Repeat CBC was ordered.\\n• Medical Treatment: I prescribed Protonix 40 mg once a day for gastritis.\\n\\nPatient Agreements: The patient understands and agrees with the recommended medical treatment plan.\\n'}, references=None, vector={}, collection='Reports'), Object(uuid=_WeaviateUUIDInt('c88c9e88-8e72-473e-91e7-e16fa4068157'), metadata=MetadataReturn(creation_time=None, last_update_time=None, distance=None, certainty=None, score=None, explain_score=None, is_consistent=None, rerank_score=None), properties={'summary': 'CHIEF COMPLAINT\\n\\nFollow-up from an emergency room visit.\\n\\nHISTORY OF PRESENT ILLNESS\\n\\nLouis Williams is a 58-year-old male presenting for a follow-up from an emergency room visit.\\n\\nThe patient states that he was playing tennis on Saturday, that he was really hot and that after approximately 30 minutes he was struggling to breathe. He states that he thought he was having a heart attack at that time. His wife took him to the emergency room and at that time, he states that he had been feeling very lightheaded and dizzy. He notes that on Sunday he felt fine.\\n\\nThe patient reports that he has been very diligent with his medications for his congestive heart failure. He notes that he has been avoiding salt for the most part but there has been some dietary indiscretion more recently.\\n\\nHe is status post cataract extraction approximately 3 months ago, and notes that everything has been fine since then. He denies any vision problems at this time.\\n\\nThe patient had a skin cancer removed approximately 5 months ago. He reports this is well healed.\\n\\nREVIEW OF SYSTEMS\\n\\n• Cardiovascular: Endorse dyspnea on exertion.\\n• Respiratory: Endorses shortness of breath.\\n• Neurological: Endorses lightheadedness and dizziness.\\n\\nPHYSICAL EXAMINATION\\n\\n• Neck: Supple. No jugular venous distention.\\n• Respiratory: Fine crackles bilaterally.\\n• Cardiovascular: Regular rate and rhythm. No murmurs. Bilateral lower extremity edema.\\n\\nRESULTS\\n\\nECG revealed left ventricular hypertrophy consistent with congestive heart failure.\\nEchocardiogram demonstrates stable diminished ejection fraction.\\nSkin cancer pathology demonstrates clear margins.\\n\\nASSESSMENT AND PLAN\\n\\nThe patient is a 58-year-old male who presents for follow-up after emergency room visit.\\n\\nED follow-up and congestive heart failure.\\n• Medical Reasoning: I believe his symptoms which led to his ED visit were due to an exacerbation of his heart failure. He admits to some dietary indiscretion, which likely resulted in fluid retention.\\n• Medical Treatment: I will prescribe Lasix 80 mg once a day. I will also place him on carvedilol 25 mg twice a day.\\n\\nStatus post basal cell carcinoma removal.\\n• Medical Reasoning: He seems to be doing well and the removal site is well-healed. No change in treatment is necessary at this time.\\n\\nStatus post cataract surgery.\\n• Medical Reasoning: He seems to be doing well. We will continue to observe, but no treatment changes are needed today.\\n\\nPatient Agreements: The patient understands and agrees with the recommended medical treatment.\\n', 'conversation': \"[doctor] hi , louis . how are you ?\\n[patient] hi . good to see you .\\n[doctor] it's good to see you as well . are you ready to get started ?\\n[patient] yes , i am .\\n[doctor] louis is a 58-year-old male here for follow up from an emergency room visit . so , louis , what happened ?\\n[patient] yeah . i was playing tennis on saturday . it was really , really hot that day , very humid . and about after about a half an hour i was very short of breath , i was struggling breathing . i thought i was having a heart attack , got really nervous . so , my wife took me to the er and , uh , everything checked out , but i was just very upset about it .\\n[doctor] okay . all right . and how have you been feeling since that time ?\\n[patient] uh , foof , probably , probably about six hours after we got home , i felt very light-head and very dizzy and then , sunday , i felt fine . i just thought it was worth checking up with you though .\\n[doctor] okay . and have you been taking all of your meds for your heart failure ?\\n[patient] i have . i have . i've been , uh , very diligent with it . and , uh , i'm in touch with the doctor and so far , so good , other than this episode on saturday .\\n[doctor] okay . and , and you're watching your diet , you're avoiding salt . have you had anything salty ?\\n[patient] i cheat every now and then . you know , i try and stay away from the junk food and the salty foods . but , for the most part , i've been doing a good job of that .\\n[doctor] okay . all right . um , and i know that they removed a cataract from your eye-\\n[patient] mm-hmm .\\n[doctor] . a couple of , like couple months ago . that's been fine ?\\n[patient] that was three months ago , thursday , and everything's been fine ever since .\\n[doctor] okay . so , no vision problems .\\n[patient] no .\\n[doctor] okay . and you had a skin cancer removed about five months ago as well . you've had a lot going on .\\n[patient] yeah . it's been a really busy year . an- and again , so far , so good . that healed up nicely , no problems ever since .\\n[doctor] okay . all right . um , so , why do n't we go ahead and we'll do a quick physical-\\n[patient] mm-hmm .\\n[doctor] . exam . hey , dragon , show me the blood pressure . so , here , your blood pressure is a little high .\\n[patient] mm-hmm .\\n[doctor] um , so , you know , i did see a report in the emergency room that your blood pressure was high there as well .\\n[patient] mm-hmm .\\n[doctor] so , we'll have to just kind of talk about that . uh , but let's go ahead and we'll examine you .\\n[patient] sure .\\n[doctor] okay ?\\n[patient] mm-hmm .\\n[doctor] okay . so , you know , looking at you , your neck is very supple . i do n't appreciate any fibular venous distention . your heart is a regular rate and rhythm , no murmur . your lungs have some fine crackles in them , bilaterally . and you have trace lower extremity edema in both legs . so , what that means , essentially , is that you may have some extra fluid on board , um , from eating salty foods-\\n[patient] mm-hmm .\\n[doctor] . along with this history of your congestive heart failure . but , let's go ahead and look at some of your results . hey , dragon , show me the ecg . so , this is , uh , a s- a stable ecg for you . this basically shows that you have some left ventricular hypertrophy which caused your congestive heart failure . um , let's go ahead and review your echocardiogram . hey , dragon , show me the echocardiogram . so , in reviewing the results of your echocardiogram , it shows that your pumping function of your heart is a little low , uh , but it's stable . and , you know , i think that we know this and we have you on the appropriate-\\n[patient] mm-hmm .\\n[doctor] medication therapy . and then , i just wan na be reminded about , um , the results of your skin biopsy . hey , dragon , show me the skin biopsy results . okay . and in reviewing the pathology report for your skin cancer-\\n[patient] mm-hmm .\\n[doctor] . you know , it looks like they got all of that and everything's fine .\\n[patient] yep .\\n[doctor] so , you know , my impression of you at this time , for the shortness of breath that you had in the emergency department , i think it was an exacerbation of your heart failure . and you probably had some , what we call , dietary indiscretion , you ate some salty food which made you retain some fluid .\\n[patient] mm-hmm .\\n[doctor] so , for that , i'm going to prescribe you , you know , an extra dose of lasix 80 milligrams , once a day . and , um , we're going to , uh , put you on some carvedilol 25 milligrams , twice a day . okay ?\\n[patient] okay . perfect .\\n[doctor] um , and i think from a , a cataract surgery standpoint and your skin cancer removal , everything seems to be fine and you're doing well , so i do n't think we need to adjust any of those medications .\\n[patient] good to hear .\\n[doctor] okay ? hey , dragon , order lasix 80 milligrams , once a day . hey , dragon , order carvedilol 25 milligrams , twice a day . okay . and the nurse will come in and she'll see you soon . okay ?\\n[patient] great .\\n[doctor] hey , dragon , finalize the note .\"}, references=None, vector={}, collection='Reports')]\n"
     ]
    }
   ],
   "source": [
    "k_examples = reports.query.near_text(query=conversation, limit=2).objects\n",
    "print(k_examples)"
   ]
  },
  {
   "cell_type": "code",
   "execution_count": 112,
   "metadata": {},
   "outputs": [
    {
     "name": "stdout",
     "output_type": "stream",
     "text": [
      "\n",
      "<s>[INST] Write a summary of the following conversation between a doctor and a patient:\n",
      "Doctor: Good morning, Mr. Smith. How are you feeling today?\n",
      "Patient: Good morning, Doctor. I've been better, to be honest. I've been having some chest pain and shortness of breath lately.\n",
      "Doctor: I'm sorry to hear that. How long have you been experiencing these symptoms?\n",
      "Patient: It's been about a week now. At first, I thought it might just be stress, but it's been getting worse.\n",
      "Doctor: I see. Have you noticed if anything triggers these symptoms or if they occur at certain times of the day?\n",
      "Patient: Well, the chest pain seems to come on after I've been active or when I'm feeling particularly stressed.\n",
      "Doctor: Okay. Have you had any previous heart-related issues or any family history of heart disease?\n",
      "Patient: Not that I know of, Doctor.\n",
      "Doctor: Alright. I'd like to conduct a physical examination and run some tests to better understand what might be causing your symptoms. We may need to perform an EKG, chest X-ray, and some blood work to start.\n",
      "Patient: Sounds good, Doctor. I just want to figure out what's going on.\n",
      "Doctor: Absolutely, Mr. Smith. We'll work together to get to the bottom of this. In the meantime, I'd recommend avoiding any strenuous activities and trying to manage your stress levels as best as you can.\n",
      "Patient: Thank you, Doctor. I'll do my best.\n",
      "Doctor: You're welcome. I'll have my nurse schedule those tests for you, and we'll follow up once we have the results.\n",
      "Patient: Alright, Doctor. Thank you again for your help.\n",
      "Doctor: Of course, Mr. Smith. Take care, and we'll be in touch soon.\n",
      "\n",
      "Here are some examples of conversations and their summaries to help you write the summary, please follow the same format as the examples:\n",
      "Example #1: \n",
      "Conversation:\n",
      "[doctor] hi , vincent . how are you ?\n",
      "[patient] i'm good . how about you ?\n",
      "[doctor] i'm good . so le- are you ready to get started ?\n",
      "[patient] i am .\n",
      "[doctor] okay . vincent is a 56-year-old male here with abnormal lab findings . so , i've heard you were in the er , vincent , and they found that you had a low hemoglobin .\n",
      "[patient] yup .\n",
      "[doctor] were you having some dizziness and some lightheadedness ?\n",
      "[patient] i was very lightheaded . i- i do n't know . very lightheaded .\n",
      "[doctor] okay . and have you noticed bleeding from anywhere ?\n",
      "[patient] i have not . i have n't hurt myself in quite a while . maybe a slight nick from a knife while chopping some onions , but nothing more than that .\n",
      "[doctor] but no blood in your stools or-\n",
      "[patient] no .\n",
      "[doctor] . anything like that ?\n",
      "[patient] no .\n",
      "[doctor] okay . and any type of weight loss or decreased appetite or night sweats ? coughs ?\n",
      "[patient] uh , s- slightly decreased appetite , but i wish i had some weight loss .\n",
      "[doctor] um , okay . and how about any abdominal pain ? fever , chills ?\n",
      "[patient] uh , none of that .\n",
      "[doctor] okay . all right . um , any nausea or vomiting ?\n",
      "[patient] not really . yeah . maybe a bit of nausea .\n",
      "[doctor] okay .\n",
      "[patient] i- sitting at the back of a car , that makes me nauseous at times .\n",
      "[doctor] okay . all right . um , well , how are you doing in terms of your knee replacement . i know you had that done last year . that's going okay ?\n",
      "[patient] mm , it seems okay . yeah .\n",
      "[doctor] okay . you're walking around without a problem ?\n",
      "[patient] yup , yup . just not good enough to run yet , but everything else works just fine .\n",
      "[doctor] all right .\n",
      "um , and i know a few years ago , you had , had that scare with the possible lung cancer , but then they did the biopsy and , and you've been fine .\n",
      "[patient] yup , yup . all good .\n",
      "[doctor] turned out to be benign .\n",
      "[patient] yup .\n",
      "[doctor] okay . great . all right . well , let's go ahead and do a quick physical exam . so looking at you , you do n't appear in any distress . your heart is regular . your lungs sound nice and clear . you have some tenderness to the right lower quadrant to palpation of your abdomen . your lower extremities have no edema .\n",
      "[doctor] um , all right . well , let's go ahead and look at your labs , okay ?\n",
      "[patient] yup .\n",
      "[doctor] hey , dragon , show me the hemoglobin . yeah , so your hemoglobin is 8.2 , which is quite low for somebody of your height and weight , so we'll have to look into that a , a little bit further . i know that they did the endoscopy in the emergency room . hey , dragon , show me the endoscope results .\n",
      "[doctor] good . so it looks like you had some gastritis , which is just inflammation of your stomach and they also found a slight polyp , which i know that they biopsied and the results are pending at this time . um , so , you may have had some bleeding from the gastritis . it's not usual for people to have bleeding from that .\n",
      "[doctor] um , okay , well , hey , dragon , show me the anemia panel . okay .\n",
      "[doctor] anyway , okay . well , vincent , i think , you know , in terms of , my impression of you is that you've had this newfound anemia and for that , i think that we should go ahead and put you on protonix , 40 milligrams , once a day to help with the gastritis . does that sound okay to you ?\n",
      "[patient] it does . you're the doctor . i do n't know what it is .\n",
      "[doctor] so that's just , uh , what we call a proton pump inhibitor which , uh , helps decrease the amount of acid secreted within your stomach .\n",
      "[patient] got it . makes sense .\n",
      "[doctor] hey , hey , dragon , order protonix , 40 milligrams , once a day .\n",
      "[doctor] and i'd like you to try to cut down on your caffeine 'cause that can also irritate your stomach . try not to take any ibuprofen and try to cut down on any alcohol intake , okay ?\n",
      "[patient] yup , yup . the coffee's the hard part .\n",
      "[doctor] yeah . it always is . how about one , one , one eight-ounce cup a day ? okay ?\n",
      "[patient] sure .\n",
      "[doctor] um , and we'll go ahead and we'll see you in a couple weeks , okay ?\n",
      "[patient] sure thing .\n",
      "[doctor] i'm going through , uh , i'll also order another , uh , cbc on you . hey , dragon , order a complete blood count .\n",
      "[doctor] all right . the nurse will be in soon . it's , you know , settle all that . i'll see you soon .\n",
      "[patient] see you .\n",
      "[doctor] hey , dragon , finalize the note .\n",
      "\n",
      "\n",
      "Summary:\n",
      "CHIEF COMPLAINT\n",
      "\n",
      "Abnormal labs.\n",
      "\n",
      "HISTORY OF PRESENT ILLNESS\n",
      "\n",
      "Mr. Vincent Young is a 56-year-old male who presents to the clinic today for evaluation of abnormal labs.\n",
      "\n",
      "The patient was seen in the emergency room where he was found to have low hemoglobin. He notes that he has been very lightheaded. He denies any hematochezia. The patient does note some decrease in appetite. The patient reports some nausea when he is sitting in the back of the car. He denies any abdominal pain, fever, chills, vomiting, or recent weight loss. The patient also denies night sweats, or a cough.\n",
      "\n",
      "The patient notes that he is doing well status post knee arthroplasty. He is walking around without any problems.\n",
      "\n",
      "The patient had a biopsy a few years ago for potential lung cancer, however the nodule was benign. He is doing well.\n",
      "\n",
      "REVIEW OF SYSTEMS\n",
      "\n",
      "• Constitutional: No fevers, chills, or weight loss.\n",
      "• Gastrointestinal: Endorses decreased appetite and mild nausea. Denies hematochezia.\n",
      "• Neurological: Endorse lightheadedness.\n",
      "\n",
      "PHYSICAL EXAMINATION\n",
      "\n",
      "• Constitutional: in no apparent distress.\n",
      "• Neck: Supple without thyromegaly or lymphadenopathy.\n",
      "• Respiratory: Lungs are clear to auscultation bilaterally. No wheezes, rales, or rhonchi.\n",
      "• Cardiovascular: Regular rate and rhythm. No murmurs, gallops, or rubs. No extra heart sounds.\n",
      "• Gastrointestinal: Right lower quadrant tender to palpation.\n",
      "• Musculoskeletal: No lower extremity edema\n",
      "\n",
      "RESULTS\n",
      "\n",
      "Hemoglobin- 8.2, which is low for his height and weight.\n",
      "\n",
      "Endoscopy from the emergency room showed gastritis and a slight polyp. The biopsy results are still pending.\n",
      "\n",
      "ASSESSMENT AND PLAN\n",
      "\n",
      "Vincent Young is a 56-year-old male who presents today for lab review.\n",
      "\n",
      "New found anemia.\n",
      "• Medical Reasoning: His hemoglobin was 8.2, which is low for his height and weight. Endoscopy from the hospital showed gastritis which could be the source of bleeding. The endoscopy also showed a polyp and a polypectomy was performed. The pathology is still pending.\n",
      "• Patient Education and Counseling: I encouraged the patient to reduce his caffeine consumption avoid NSAIDs and alcohol.\n",
      "• Additional Testing: Repeat CBC was ordered.\n",
      "• Medical Treatment: I prescribed Protonix 40 mg once a day for gastritis.\n",
      "\n",
      "Patient Agreements: The patient understands and agrees with the recommended medical treatment plan.\n",
      "\n",
      "Example #1: \n",
      "Conversation:\n",
      "[doctor] hi , louis . how are you ?\n",
      "[patient] hi . good to see you .\n",
      "[doctor] it's good to see you as well . are you ready to get started ?\n",
      "[patient] yes , i am .\n",
      "[doctor] louis is a 58-year-old male here for follow up from an emergency room visit . so , louis , what happened ?\n",
      "[patient] yeah . i was playing tennis on saturday . it was really , really hot that day , very humid . and about after about a half an hour i was very short of breath , i was struggling breathing . i thought i was having a heart attack , got really nervous . so , my wife took me to the er and , uh , everything checked out , but i was just very upset about it .\n",
      "[doctor] okay . all right . and how have you been feeling since that time ?\n",
      "[patient] uh , foof , probably , probably about six hours after we got home , i felt very light-head and very dizzy and then , sunday , i felt fine . i just thought it was worth checking up with you though .\n",
      "[doctor] okay . and have you been taking all of your meds for your heart failure ?\n",
      "[patient] i have . i have . i've been , uh , very diligent with it . and , uh , i'm in touch with the doctor and so far , so good , other than this episode on saturday .\n",
      "[doctor] okay . and , and you're watching your diet , you're avoiding salt . have you had anything salty ?\n",
      "[patient] i cheat every now and then . you know , i try and stay away from the junk food and the salty foods . but , for the most part , i've been doing a good job of that .\n",
      "[doctor] okay . all right . um , and i know that they removed a cataract from your eye-\n",
      "[patient] mm-hmm .\n",
      "[doctor] . a couple of , like couple months ago . that's been fine ?\n",
      "[patient] that was three months ago , thursday , and everything's been fine ever since .\n",
      "[doctor] okay . so , no vision problems .\n",
      "[patient] no .\n",
      "[doctor] okay . and you had a skin cancer removed about five months ago as well . you've had a lot going on .\n",
      "[patient] yeah . it's been a really busy year . an- and again , so far , so good . that healed up nicely , no problems ever since .\n",
      "[doctor] okay . all right . um , so , why do n't we go ahead and we'll do a quick physical-\n",
      "[patient] mm-hmm .\n",
      "[doctor] . exam . hey , dragon , show me the blood pressure . so , here , your blood pressure is a little high .\n",
      "[patient] mm-hmm .\n",
      "[doctor] um , so , you know , i did see a report in the emergency room that your blood pressure was high there as well .\n",
      "[patient] mm-hmm .\n",
      "[doctor] so , we'll have to just kind of talk about that . uh , but let's go ahead and we'll examine you .\n",
      "[patient] sure .\n",
      "[doctor] okay ?\n",
      "[patient] mm-hmm .\n",
      "[doctor] okay . so , you know , looking at you , your neck is very supple . i do n't appreciate any fibular venous distention . your heart is a regular rate and rhythm , no murmur . your lungs have some fine crackles in them , bilaterally . and you have trace lower extremity edema in both legs . so , what that means , essentially , is that you may have some extra fluid on board , um , from eating salty foods-\n",
      "[patient] mm-hmm .\n",
      "[doctor] . along with this history of your congestive heart failure . but , let's go ahead and look at some of your results . hey , dragon , show me the ecg . so , this is , uh , a s- a stable ecg for you . this basically shows that you have some left ventricular hypertrophy which caused your congestive heart failure . um , let's go ahead and review your echocardiogram . hey , dragon , show me the echocardiogram . so , in reviewing the results of your echocardiogram , it shows that your pumping function of your heart is a little low , uh , but it's stable . and , you know , i think that we know this and we have you on the appropriate-\n",
      "[patient] mm-hmm .\n",
      "[doctor] medication therapy . and then , i just wan na be reminded about , um , the results of your skin biopsy . hey , dragon , show me the skin biopsy results . okay . and in reviewing the pathology report for your skin cancer-\n",
      "[patient] mm-hmm .\n",
      "[doctor] . you know , it looks like they got all of that and everything's fine .\n",
      "[patient] yep .\n",
      "[doctor] so , you know , my impression of you at this time , for the shortness of breath that you had in the emergency department , i think it was an exacerbation of your heart failure . and you probably had some , what we call , dietary indiscretion , you ate some salty food which made you retain some fluid .\n",
      "[patient] mm-hmm .\n",
      "[doctor] so , for that , i'm going to prescribe you , you know , an extra dose of lasix 80 milligrams , once a day . and , um , we're going to , uh , put you on some carvedilol 25 milligrams , twice a day . okay ?\n",
      "[patient] okay . perfect .\n",
      "[doctor] um , and i think from a , a cataract surgery standpoint and your skin cancer removal , everything seems to be fine and you're doing well , so i do n't think we need to adjust any of those medications .\n",
      "[patient] good to hear .\n",
      "[doctor] okay ? hey , dragon , order lasix 80 milligrams , once a day . hey , dragon , order carvedilol 25 milligrams , twice a day . okay . and the nurse will come in and she'll see you soon . okay ?\n",
      "[patient] great .\n",
      "[doctor] hey , dragon , finalize the note .\n",
      "\n",
      "Summary:\n",
      "CHIEF COMPLAINT\n",
      "\n",
      "Follow-up from an emergency room visit.\n",
      "\n",
      "HISTORY OF PRESENT ILLNESS\n",
      "\n",
      "Louis Williams is a 58-year-old male presenting for a follow-up from an emergency room visit.\n",
      "\n",
      "The patient states that he was playing tennis on Saturday, that he was really hot and that after approximately 30 minutes he was struggling to breathe. He states that he thought he was having a heart attack at that time. His wife took him to the emergency room and at that time, he states that he had been feeling very lightheaded and dizzy. He notes that on Sunday he felt fine.\n",
      "\n",
      "The patient reports that he has been very diligent with his medications for his congestive heart failure. He notes that he has been avoiding salt for the most part but there has been some dietary indiscretion more recently.\n",
      "\n",
      "He is status post cataract extraction approximately 3 months ago, and notes that everything has been fine since then. He denies any vision problems at this time.\n",
      "\n",
      "The patient had a skin cancer removed approximately 5 months ago. He reports this is well healed.\n",
      "\n",
      "REVIEW OF SYSTEMS\n",
      "\n",
      "• Cardiovascular: Endorse dyspnea on exertion.\n",
      "• Respiratory: Endorses shortness of breath.\n",
      "• Neurological: Endorses lightheadedness and dizziness.\n",
      "\n",
      "PHYSICAL EXAMINATION\n",
      "\n",
      "• Neck: Supple. No jugular venous distention.\n",
      "• Respiratory: Fine crackles bilaterally.\n",
      "• Cardiovascular: Regular rate and rhythm. No murmurs. Bilateral lower extremity edema.\n",
      "\n",
      "RESULTS\n",
      "\n",
      "ECG revealed left ventricular hypertrophy consistent with congestive heart failure.\n",
      "Echocardiogram demonstrates stable diminished ejection fraction.\n",
      "Skin cancer pathology demonstrates clear margins.\n",
      "\n",
      "ASSESSMENT AND PLAN\n",
      "\n",
      "The patient is a 58-year-old male who presents for follow-up after emergency room visit.\n",
      "\n",
      "ED follow-up and congestive heart failure.\n",
      "• Medical Reasoning: I believe his symptoms which led to his ED visit were due to an exacerbation of his heart failure. He admits to some dietary indiscretion, which likely resulted in fluid retention.\n",
      "• Medical Treatment: I will prescribe Lasix 80 mg once a day. I will also place him on carvedilol 25 mg twice a day.\n",
      "\n",
      "Status post basal cell carcinoma removal.\n",
      "• Medical Reasoning: He seems to be doing well and the removal site is well-healed. No change in treatment is necessary at this time.\n",
      "\n",
      "Status post cataract surgery.\n",
      "• Medical Reasoning: He seems to be doing well. We will continue to observe, but no treatment changes are needed today.\n",
      "\n",
      "Patient Agreements: The patient understands and agrees with the recommended medical treatment.\n",
      "\n",
      "\n",
      "[/INST]\n",
      "\n"
     ]
    }
   ],
   "source": [
    "k_shot_examples = \"\"\n",
    "for i, example in enumerate(k_examples):\n",
    "    example_summary = example.properties[\"summary\"]\n",
    "    example_conversation = example.properties[\"conversation\"]\n",
    "    k_shot_examples += f\"Example #1: \\nConversation:\\n{example_conversation}\\n\\nSummary:\\n{example_summary}\\n\"\n",
    "\n",
    "# You may use the following examples to help you write the summary\n",
    "k_shot_prompt = f\"\"\"\n",
    "<s>[INST] Write a summary of the following conversation between a doctor and a patient:\\n{conversation}\n",
    "\n",
    "Here are some examples of conversations and their summaries to help you write the summary, please follow the same format as the examples:\n",
    "{k_shot_examples}\n",
    "[/INST]\n",
    "\"\"\"\n",
    "\n",
    "print(k_shot_prompt)"
   ]
  },
  {
   "cell_type": "code",
   "execution_count": 111,
   "metadata": {},
   "outputs": [
    {
     "name": "stderr",
     "output_type": "stream",
     "text": [
      "Setting `pad_token_id` to `eos_token_id`:2 for open-end generation.\n"
     ]
    },
    {
     "name": "stdout",
     "output_type": "stream",
     "text": [
      "\n",
      "Summary:\n",
      "\n",
      "Mr. Smith presented to the doctor's office complaining of chest pain and shortness of breath that had been ongoing for a week. He was unsure if these symptoms were related to stress or an underlying condition. The doctor performed a physical examination and ordered tests including an EKG, chest X-ray, and blood work to better understand the cause of his symptoms. The patient was advised to avoid strenuous activities and manage stress levels until the test results were available. No previous heart-related issues or family history of heart disease was reported. The doctor will follow up once the test results are obtained.</s>\n"
     ]
    }
   ],
   "source": [
    "model_inputs = tokenizer(k_shot_prompt, return_tensors=\"pt\").to(device)\n",
    "\n",
    "generated_ids = model.generate(**model_inputs, max_new_tokens=1000, do_sample=True)\n",
    "decoded = tokenizer.batch_decode(generated_ids)\n",
    "\n",
    "k_shot_output = decoded[0]\n",
    "k_shot_resume = k_shot_output.split(\"[/INST]\")[1]\n",
    "\n",
    "print(k_shot_resume)"
   ]
  },
  {
   "cell_type": "code",
   "execution_count": 96,
   "metadata": {},
   "outputs": [
    {
     "name": "stdout",
     "output_type": "stream",
     "text": [
      "{'precision': [0.8896547555923462], 'recall': [0.8447261452674866], 'f1': [0.8666084408760071], 'hashcode': 'roberta-large_L17_no-idf_version=0.3.12(hug_trans=4.37.2)'}\n"
     ]
    }
   ],
   "source": [
    "results = bertscore.compute(predictions=[k_shot_resume], references=[conversation], lang=\"en\")\n",
    "print(results)"
   ]
  }
 ],
 "metadata": {
  "kernelspec": {
   "display_name": "venv",
   "language": "python",
   "name": "python3"
  },
  "language_info": {
   "codemirror_mode": {
    "name": "ipython",
    "version": 3
   },
   "file_extension": ".py",
   "mimetype": "text/x-python",
   "name": "python",
   "nbconvert_exporter": "python",
   "pygments_lexer": "ipython3",
   "version": "3.11.4"
  }
 },
 "nbformat": 4,
 "nbformat_minor": 2
}
